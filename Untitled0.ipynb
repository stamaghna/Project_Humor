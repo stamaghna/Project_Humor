{
  "nbformat": 4,
  "nbformat_minor": 0,
  "metadata": {
    "colab": {
      "name": "Untitled0.ipynb",
      "provenance": [],
      "collapsed_sections": []
    },
    "kernelspec": {
      "name": "python3",
      "display_name": "Python 3"
    }
  },
  "cells": [
    {
      "cell_type": "code",
      "metadata": {
        "id": "UAoPChkNj4xb",
        "colab": {
          "base_uri": "https://localhost:8080/"
        },
        "outputId": "dd39915f-f8e2-4a4c-a10e-c3feacbfd176"
      },
      "source": [
        "#importing necessary libraries\n",
        "#tweet preprocesssor is a special library that can be used for cleaning texts\n",
        "#the regular expression library or re deals with the special cases which the tweet preprocessor didn't have\n",
        "import sklearn \n",
        "import numpy as np\n",
        "import pandas as pd\n",
        "!pip install tweet-preprocessor\n",
        "import preprocessor as p\n",
        "import re\n",
        "\n"
      ],
      "execution_count": 2,
      "outputs": [
        {
          "output_type": "stream",
          "text": [
            "Collecting tweet-preprocessor\n",
            "  Downloading https://files.pythonhosted.org/packages/17/9d/71bd016a9edcef8860c607e531f30bd09b13103c7951ae73dd2bf174163c/tweet_preprocessor-0.6.0-py3-none-any.whl\n",
            "Installing collected packages: tweet-preprocessor\n",
            "Successfully installed tweet-preprocessor-0.6.0\n"
          ],
          "name": "stdout"
        }
      ]
    },
    {
      "cell_type": "code",
      "metadata": {
        "id": "KDj03nxvX3m0",
        "colab": {
          "base_uri": "https://localhost:8080/",
          "height": 204
        },
        "outputId": "00885f68-59e8-4d1d-c81b-99e7f15e83eb"
      },
      "source": [
        "#loading the dataset...the goal is to detect whether a given piece of text is humorous or not...from the dataset we have,1 means that the test is humorous\r\n",
        "#and 0 means that the text is non-humorous\r\n",
        "train=pd.read_csv('train.csv')\r\n",
        "train.head()"
      ],
      "execution_count": 3,
      "outputs": [
        {
          "output_type": "execute_result",
          "data": {
            "text/html": [
              "<div>\n",
              "<style scoped>\n",
              "    .dataframe tbody tr th:only-of-type {\n",
              "        vertical-align: middle;\n",
              "    }\n",
              "\n",
              "    .dataframe tbody tr th {\n",
              "        vertical-align: top;\n",
              "    }\n",
              "\n",
              "    .dataframe thead th {\n",
              "        text-align: right;\n",
              "    }\n",
              "</style>\n",
              "<table border=\"1\" class=\"dataframe\">\n",
              "  <thead>\n",
              "    <tr style=\"text-align: right;\">\n",
              "      <th></th>\n",
              "      <th>id</th>\n",
              "      <th>text</th>\n",
              "      <th>is_humor</th>\n",
              "      <th>humor_rating</th>\n",
              "      <th>humor_controversy</th>\n",
              "      <th>offense_rating</th>\n",
              "    </tr>\n",
              "  </thead>\n",
              "  <tbody>\n",
              "    <tr>\n",
              "      <th>0</th>\n",
              "      <td>1</td>\n",
              "      <td>TENNESSEE: We're the best state. Nobody even c...</td>\n",
              "      <td>1</td>\n",
              "      <td>2.42</td>\n",
              "      <td>1.0</td>\n",
              "      <td>0.2</td>\n",
              "    </tr>\n",
              "    <tr>\n",
              "      <th>1</th>\n",
              "      <td>2</td>\n",
              "      <td>A man inserted an advertisement in the classif...</td>\n",
              "      <td>1</td>\n",
              "      <td>2.50</td>\n",
              "      <td>1.0</td>\n",
              "      <td>1.1</td>\n",
              "    </tr>\n",
              "    <tr>\n",
              "      <th>2</th>\n",
              "      <td>3</td>\n",
              "      <td>How many men does it take to open a can of bee...</td>\n",
              "      <td>1</td>\n",
              "      <td>1.95</td>\n",
              "      <td>0.0</td>\n",
              "      <td>2.4</td>\n",
              "    </tr>\n",
              "    <tr>\n",
              "      <th>3</th>\n",
              "      <td>4</td>\n",
              "      <td>Told my mom I hit 1200 Twitter followers. She ...</td>\n",
              "      <td>1</td>\n",
              "      <td>2.11</td>\n",
              "      <td>1.0</td>\n",
              "      <td>0.0</td>\n",
              "    </tr>\n",
              "    <tr>\n",
              "      <th>4</th>\n",
              "      <td>5</td>\n",
              "      <td>Roses are dead. Love is fake. Weddings are bas...</td>\n",
              "      <td>1</td>\n",
              "      <td>2.78</td>\n",
              "      <td>0.0</td>\n",
              "      <td>0.1</td>\n",
              "    </tr>\n",
              "  </tbody>\n",
              "</table>\n",
              "</div>"
            ],
            "text/plain": [
              "   id  ... offense_rating\n",
              "0   1  ...            0.2\n",
              "1   2  ...            1.1\n",
              "2   3  ...            2.4\n",
              "3   4  ...            0.0\n",
              "4   5  ...            0.1\n",
              "\n",
              "[5 rows x 6 columns]"
            ]
          },
          "metadata": {
            "tags": []
          },
          "execution_count": 3
        }
      ]
    },
    {
      "cell_type": "code",
      "metadata": {
        "id": "INusR4Obqet3"
      },
      "source": [
        "#These are the special cases which the tweet preprocessor doesn't have\r\n",
        "REPLACE_NO_SPACE=re.compile(\"(\\.)|(\\;)|(\\:)|(\\!)|(\\')|(\\?)|(\\,)|(\\\")|(\\|)|(\\()|(\\))|(\\[)|(\\])|(\\%)|(\\$)|(\\>)|(\\<)|(\\{)|(\\})\")\r\n",
        "REPLACE_WITH_SPACE=re.compile(\"(<br\\s/><br\\s/?)|(-)|(/)|(:)\")"
      ],
      "execution_count": 5,
      "outputs": []
    },
    {
      "cell_type": "code",
      "metadata": {
        "id": "Q8wtGmCD0AT4"
      },
      "source": [
        "#the clean_humor function is used to clean the dataset\r\n",
        "def clean_humor(df):\r\n",
        "  tempArr=[]\r\n",
        "  for line in df:\r\n",
        "    tmpL=p.clean(line)#here the tweet preprocessor has been used \r\n",
        "    tmpL=REPLACE_NO_SPACE.sub(\"\",tmpL.lower())#here the regular expression library is used\r\n",
        "    tmpL=REPLACE_WITH_SPACE.sub(\" \",tmpL)#here the regular expression library is used\r\n",
        "    tempArr.append(tmpL)\r\n",
        "  return tempArr "
      ],
      "execution_count": 6,
      "outputs": []
    },
    {
      "cell_type": "code",
      "metadata": {
        "id": "EzG4SaafXAEu"
      },
      "source": [
        "#Now that we have cleaned the data we are going to pass the tweets from the training data to the function\r\n",
        "#And we'll convert it to a dataframe\r\n",
        "train_humor=clean_humor(train[\"text\"])\r\n",
        "train_humor=pd.DataFrame(train_humor)  "
      ],
      "execution_count": 7,
      "outputs": []
    },
    {
      "cell_type": "code",
      "metadata": {
        "id": "-ecC3jeZRqhH",
        "colab": {
          "base_uri": "https://localhost:8080/",
          "height": 357
        },
        "outputId": "e0a93321-5913-436e-d086-cb662617266d"
      },
      "source": [
        "#appending the clean tweet to the original dataset\r\n",
        "train[\"clean_humor\"]=train_humor\r\n",
        "train.head()"
      ],
      "execution_count": 9,
      "outputs": [
        {
          "output_type": "execute_result",
          "data": {
            "text/html": [
              "<div>\n",
              "<style scoped>\n",
              "    .dataframe tbody tr th:only-of-type {\n",
              "        vertical-align: middle;\n",
              "    }\n",
              "\n",
              "    .dataframe tbody tr th {\n",
              "        vertical-align: top;\n",
              "    }\n",
              "\n",
              "    .dataframe thead th {\n",
              "        text-align: right;\n",
              "    }\n",
              "</style>\n",
              "<table border=\"1\" class=\"dataframe\">\n",
              "  <thead>\n",
              "    <tr style=\"text-align: right;\">\n",
              "      <th></th>\n",
              "      <th>id</th>\n",
              "      <th>text</th>\n",
              "      <th>is_humor</th>\n",
              "      <th>humor_rating</th>\n",
              "      <th>humor_controversy</th>\n",
              "      <th>offense_rating</th>\n",
              "      <th>clean_humor</th>\n",
              "    </tr>\n",
              "  </thead>\n",
              "  <tbody>\n",
              "    <tr>\n",
              "      <th>0</th>\n",
              "      <td>1</td>\n",
              "      <td>TENNESSEE: We're the best state. Nobody even c...</td>\n",
              "      <td>1</td>\n",
              "      <td>2.42</td>\n",
              "      <td>1.0</td>\n",
              "      <td>0.2</td>\n",
              "      <td>tennessee were the best state nobody even come...</td>\n",
              "    </tr>\n",
              "    <tr>\n",
              "      <th>1</th>\n",
              "      <td>2</td>\n",
              "      <td>A man inserted an advertisement in the classif...</td>\n",
              "      <td>1</td>\n",
              "      <td>2.50</td>\n",
              "      <td>1.0</td>\n",
              "      <td>1.1</td>\n",
              "      <td>a man inserted an advertisement in the classif...</td>\n",
              "    </tr>\n",
              "    <tr>\n",
              "      <th>2</th>\n",
              "      <td>3</td>\n",
              "      <td>How many men does it take to open a can of bee...</td>\n",
              "      <td>1</td>\n",
              "      <td>1.95</td>\n",
              "      <td>0.0</td>\n",
              "      <td>2.4</td>\n",
              "      <td>how many men does it take to open a can of bee...</td>\n",
              "    </tr>\n",
              "    <tr>\n",
              "      <th>3</th>\n",
              "      <td>4</td>\n",
              "      <td>Told my mom I hit 1200 Twitter followers. She ...</td>\n",
              "      <td>1</td>\n",
              "      <td>2.11</td>\n",
              "      <td>1.0</td>\n",
              "      <td>0.0</td>\n",
              "      <td>told my mom i hit twitter followers she pointe...</td>\n",
              "    </tr>\n",
              "    <tr>\n",
              "      <th>4</th>\n",
              "      <td>5</td>\n",
              "      <td>Roses are dead. Love is fake. Weddings are bas...</td>\n",
              "      <td>1</td>\n",
              "      <td>2.78</td>\n",
              "      <td>0.0</td>\n",
              "      <td>0.1</td>\n",
              "      <td>roses are dead love is fake weddings are basic...</td>\n",
              "    </tr>\n",
              "  </tbody>\n",
              "</table>\n",
              "</div>"
            ],
            "text/plain": [
              "   id  ...                                        clean_humor\n",
              "0   1  ...  tennessee were the best state nobody even come...\n",
              "1   2  ...  a man inserted an advertisement in the classif...\n",
              "2   3  ...  how many men does it take to open a can of bee...\n",
              "3   4  ...  told my mom i hit twitter followers she pointe...\n",
              "4   5  ...  roses are dead love is fake weddings are basic...\n",
              "\n",
              "[5 rows x 7 columns]"
            ]
          },
          "metadata": {
            "tags": []
          },
          "execution_count": 9
        }
      ]
    },
    {
      "cell_type": "code",
      "metadata": {
        "id": "b67rTpXiS1Wg"
      },
      "source": [
        ""
      ],
      "execution_count": null,
      "outputs": []
    },
    {
      "cell_type": "code",
      "metadata": {
        "id": "MNBYhxfKhNYQ"
      },
      "source": [
        "#Using train test split to split it into training and testing data...we have 70% training data and 30% testing data \r\n",
        "from sklearn.model_selection import train_test_split\r\n",
        "y=train.is_humor.values\r\n",
        "x_train,x_test,y_train,y_test=train_test_split(train.clean_humor.values,y,stratify=y,random_state=1,test_size=0.3,shuffle=True)"
      ],
      "execution_count": 10,
      "outputs": []
    },
    {
      "cell_type": "code",
      "metadata": {
        "id": "4FdVy6oZipI9"
      },
      "source": [
        "#We need to convert the text to numeric form as the model won't understand human language,so we'll vectorize the texts\r\n",
        "#using CountVectorizer library...CountVectorizer library provides a simple way of tokenizing a collection of text documents\r\n",
        "#The stopwords argument has been used to remove stop words like \"a\",\"the\"\r\n",
        "from sklearn.feature_extraction.text import  CountVectorizer\r\n",
        "vectorizer=CountVectorizer(binary=True,stop_words='english')\r\n",
        "vectorizer.fit(list(x_train)+list(x_test))\r\n",
        "x_train_vectorization=vectorizer.transform(x_train)\r\n",
        "x_test_vectorization=vectorizer.transform(x_test)"
      ],
      "execution_count": 11,
      "outputs": []
    },
    {
      "cell_type": "code",
      "metadata": {
        "id": "_X-b1Qzdqjne"
      },
      "source": [
        "#We have used support vector classifier,it is a supervised learning algorithm used for binary or multiclass classification\r\n",
        "from sklearn import svm\r\n",
        "svm=svm.SVC(kernel='linear',probability=True)\r\n",
        "prob=svm.fit(x_train_vectorization,y_train).predict_proba(x_test_vectorization)\r\n",
        "y_pred_svm=svm.predict(x_test_vectorization)"
      ],
      "execution_count": 12,
      "outputs": []
    },
    {
      "cell_type": "code",
      "metadata": {
        "colab": {
          "base_uri": "https://localhost:8080/"
        },
        "id": "wlq4QV2PsR7a",
        "outputId": "68dd18a0-a195-4407-9aad-27bd2a77a247"
      },
      "source": [
        "from sklearn.metrics import accuracy_score,f1_score\r\n",
        "print(accuracy_score(y_test,y_pred_svm)*100)\r\n",
        "print(f1_score(y_test,y_pred_svm)*100)"
      ],
      "execution_count": 14,
      "outputs": [
        {
          "output_type": "stream",
          "text": [
            "78.625\n",
            "82.7910097282791\n"
          ],
          "name": "stdout"
        }
      ]
    }
  ]
}