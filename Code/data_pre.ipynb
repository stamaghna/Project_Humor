{
 "cells": [
  {
   "cell_type": "code",
   "execution_count": 1,
   "metadata": {},
   "outputs": [],
   "source": [
    "import numpy as np\n",
    "import nltk\n",
    "import string\n",
    "from pycontractions import Contractions\n",
    "from nltk.tokenize import word_tokenize\n",
    "from nltk.corpus import stopwords, wordnet\n",
    "from nltk.stem import WordNetLemmatizer"
   ]
  },
  {
   "cell_type": "code",
   "execution_count": 2,
   "metadata": {},
   "outputs": [],
   "source": [
    "def get_wordnet_pos(tag):\n",
    "    if tag.startswith('J'):\n",
    "        return wordnet.ADJ\n",
    "    elif tag.startswith('V'):\n",
    "        return wordnet.VERB\n",
    "    elif tag.startswith('N'):\n",
    "        return wordnet.NOUN\n",
    "    elif tag.startswith('R'):\n",
    "        return wordnet.ADV\n",
    "    else:\n",
    "        return wordnet.NOUN"
   ]
  },
  {
   "cell_type": "code",
   "execution_count": 3,
   "metadata": {},
   "outputs": [],
   "source": [
    "def fix_contraction ( text ):\n",
    "    pre_text['no_contract'] = text.apply(lambda x: [contractions.fix(word) for word in x.split()])\n",
    "    #text = [' '.join(map(str, l)) for l in (text.apply(lambda x: [contractions.fix(word) for word in x.split()]))]\n",
    "    #text = text.apply(lambda x: [contractions.fix(word) for word in x.split()])"
   ]
  },
  {
   "cell_type": "code",
   "execution_count": 4,
   "metadata": {},
   "outputs": [],
   "source": [
    "def join_post_contra ( pre_text ):\n",
    "    pre_text['text_str'] = [' '.join(map(str, l)) for l in pre_text['no_contract']]"
   ]
  },
  {
   "cell_type": "code",
   "execution_count": 5,
   "metadata": {},
   "outputs": [],
   "source": [
    "def remove_stopwords ( pre_text ):\n",
    "    stop_words = set(stopwords.words('english'))\n",
    "    pre_text['stopwords_removed'] = pre_text['no_punc'].apply(lambda x: [word for word in x if word not in stop_words])"
   ]
  },
  {
   "cell_type": "code",
   "execution_count": 6,
   "metadata": {},
   "outputs": [],
   "source": [
    "def remove_punc ( pre_text ):\n",
    "    punc = string.punctuation\n",
    "    pre_text['no_punc'] = pre_text['lower_str'].apply(lambda x: [word for word in x if word not in punc])"
   ]
  },
  {
   "cell_type": "code",
   "execution_count": 7,
   "metadata": {},
   "outputs": [],
   "source": [
    "def change_to_lower ( pre_text ):\n",
    "    pre_text['lower_str'] = pre_text['tokenized'].apply(lambda x: [word.lower() for word in x])"
   ]
  },
  {
   "cell_type": "code",
   "execution_count": 8,
   "metadata": {},
   "outputs": [],
   "source": [
    "def text_tokenize ( pre_text ):\n",
    "    pre_text['tokenized'] = pre_text['text_str'].apply(word_tokenize)"
   ]
  },
  {
   "cell_type": "code",
   "execution_count": 9,
   "metadata": {},
   "outputs": [],
   "source": [
    "def lemma ( pre_text ):\n",
    "    pre_text['pos_tags'] = pre_text['stopwords_removed'].apply(nltk.tag.pos_tag)\n",
    "    pre_text['wordnet_pos'] = pre_text['pos_tags'].apply(lambda x: [(word, get_wordnet_pos(pos_tag)) for (word, pos_tag) in x])\n",
    "    wnl = WordNetLemmatizer()\n",
    "    pre_text['lemmatized'] = pre_text['wordnet_pos'].apply(lambda x: [wnl.lemmatize(word, tag) for word, tag in x])"
   ]
  },
  {
   "cell_type": "code",
   "execution_count": 10,
   "metadata": {},
   "outputs": [],
   "source": [
    "def data_prpcessing ( text ):\n",
    "    pre_text = text\n",
    "    fix_contraction ( pre_text )\n",
    "    join_post_contra ( pre_text )\n",
    "    text_tokenize ( pre_text )\n",
    "    change_to_lower ( pre_text )\n",
    "    remove_punc ( pre_text )\n",
    "    remove_stopwords ( pre_text )\n",
    "    lemma ( pre_text )\n",
    "    pre_text['final_words'] = [' '.join(map(str, l)) for l in pre_text['lemmatized']]\n",
    "    return pre_text['final _words']"
   ]
  }
 ],
 "metadata": {
  "kernelspec": {
   "display_name": "Python 3",
   "language": "python",
   "name": "python3"
  },
  "language_info": {
   "codemirror_mode": {
    "name": "ipython",
    "version": 3
   },
   "file_extension": ".py",
   "mimetype": "text/x-python",
   "name": "python",
   "nbconvert_exporter": "python",
   "pygments_lexer": "ipython3",
   "version": "3.6.9"
  }
 },
 "nbformat": 4,
 "nbformat_minor": 4
}
